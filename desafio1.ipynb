{
 "cells": [
  {
   "cell_type": "markdown",
   "id": "e1803745",
   "metadata": {},
   "source": [
    "![dev](https://avatars.githubusercontent.com/u/66443117?s=200&v=4)"
   ]
  },
  {
   "cell_type": "markdown",
   "id": "d844393e",
   "metadata": {},
   "source": [
    "# Desafios\n",
    "\n",
    "A ideia é que você não escreva o código do zero: altere apenas as variáveis marcadas (parâmetros) e execute a célula para ver o efeito.\n",
    "\n",
    "Instruções rápidas:\n",
    "- Modifique apenas as variáveis no topo de cada célula de código (comentadas como \"Mude aqui\").\n",
    "- Execute a célula (Shift+Enter) para ver o resultado.\n",
    "- Experimente combinar mudanças e anote o que acontece."
   ]
  },
  {
   "cell_type": "code",
   "execution_count": 4,
   "id": "a7e5cb15",
   "metadata": {},
   "outputs": [
    {
     "ename": "ModuleNotFoundError",
     "evalue": "No module named 'matplotlib'",
     "output_type": "error",
     "traceback": [
      "\u001b[31m---------------------------------------------------------------------------\u001b[39m",
      "\u001b[31mModuleNotFoundError\u001b[39m                       Traceback (most recent call last)",
      "\u001b[36mCell\u001b[39m\u001b[36m \u001b[39m\u001b[32mIn[4]\u001b[39m\u001b[32m, line 3\u001b[39m\n\u001b[32m      1\u001b[39m \u001b[38;5;66;03m# Impotações\u001b[39;00m\n\u001b[32m      2\u001b[39m \u001b[38;5;28;01mimport\u001b[39;00m\u001b[38;5;250m \u001b[39m\u001b[34;01mrandom\u001b[39;00m\n\u001b[32m----> \u001b[39m\u001b[32m3\u001b[39m \u001b[38;5;28;01mimport\u001b[39;00m\u001b[38;5;250m \u001b[39m\u001b[34;01mmatplotlib\u001b[39;00m\u001b[34;01m.\u001b[39;00m\u001b[34;01mpyplot\u001b[39;00m\u001b[38;5;250m \u001b[39m\u001b[38;5;28;01mas\u001b[39;00m\u001b[38;5;250m \u001b[39m\u001b[34;01mplt\u001b[39;00m\n",
      "\u001b[31mModuleNotFoundError\u001b[39m: No module named 'matplotlib'"
     ]
    }
   ],
   "source": [
    "# Impotações\n",
    "import random\n",
    "import matplotlib.pyplot as plt"
   ]
  },
  {
   "cell_type": "code",
   "execution_count": 1,
   "id": "18415ab6",
   "metadata": {},
   "outputs": [
    {
     "ename": "NameError",
     "evalue": "name 'random' is not defined",
     "output_type": "error",
     "traceback": [
      "\u001b[31m---------------------------------------------------------------------------\u001b[39m",
      "\u001b[31mNameError\u001b[39m                                 Traceback (most recent call last)",
      "\u001b[36mCell\u001b[39m\u001b[36m \u001b[39m\u001b[32mIn[1]\u001b[39m\u001b[32m, line 7\u001b[39m\n\u001b[32m      4\u001b[39m max_val = \u001b[32m20\u001b[39m    \u001b[38;5;66;03m# Mude aqui: máximo de maçãs por dia\u001b[39;00m\n\u001b[32m      6\u001b[39m \u001b[38;5;66;03m# Gera uma lista com num_dias valores aleatórios entre min_val e max_val\u001b[39;00m\n\u001b[32m----> \u001b[39m\u001b[32m7\u001b[39m dados = [\u001b[43mrandom\u001b[49m.randint(min_val, max_val) \u001b[38;5;28;01mfor\u001b[39;00m _ \u001b[38;5;129;01min\u001b[39;00m \u001b[38;5;28mrange\u001b[39m(num_dias)]\n\u001b[32m      9\u001b[39m \u001b[38;5;66;03m# Cria uma nova figura para o gráfico com tamanho 6x3 polegadas\u001b[39;00m\n\u001b[32m     10\u001b[39m plt.figure(figsize=(\u001b[32m6\u001b[39m,\u001b[32m3\u001b[39m))\n",
      "\u001b[31mNameError\u001b[39m: name 'random' is not defined"
     ]
    }
   ],
   "source": [
    "# Desafio 1\n",
    "num_dias = 10000  # Mude aqui: número de dias (ex.: 10, 100, 1000)\n",
    "min_val = 0     # Mude aqui: mínimo de maçãs por dia\n",
    "max_val = 20    # Mude aqui: máximo de maçãs por dia\n",
    "\n",
    "# Gera uma lista com num_dias valores aleatórios entre min_val e max_val\n",
    "dados = [random.randint(min_val, max_val) for _ in range(num_dias)]\n",
    "\n",
    "# Cria uma nova figura para o gráfico com tamanho 6x3 polegadas\n",
    "plt.figure(figsize=(6,3))\n",
    "\n",
    "# Cria o histograma com os dados, dividindo em bins de 1 em 1 (min_val até max_val+1)\n",
    "plt.hist(dados, bins=range(min_val, max_val+2), edgecolor='black')\n",
    "\n",
    "# Define o título do gráfico\n",
    "plt.title('Maçãs colhidas por dia (histograma)')\n",
    "\n",
    "# Define o rótulo do eixo x\n",
    "plt.xlabel('Maçãs')\n",
    "\n",
    "# Define o rótulo do eixo y\n",
    "plt.ylabel('Frequência')\n",
    "\n",
    "# Exibe o gráfico na tela\n",
    "plt.show()\n",
    "\n",
    "# Dica / solução comentada\n",
    "if False:\n",
    "    # Aumente num_dias para suavizar a distribuição.\n",
    "    # Altere min_val e max_val para ampliar o eixo x.\n",
    "    pass"
   ]
  },
  {
   "cell_type": "markdown",
   "id": "6fbaaf09",
   "metadata": {},
   "source": [
    "## Resolução 1\n",
    "\n",
    "Para n pequeno (poucos dias): A aleatoriedade do \"sorteio\" tem um grande impacto. É como jogar um dado 6 vezes; é improvável que você obtenha exatamente um de cada número. Você pode acabar com três \"5\" e nenhum \"2\", por exemplo. O resultado parece irregular.\n",
    "\n",
    "Para n grande (muitos dias): À medida que você repete o experimento milhares ou milhões de vezes, as aleatoriedades de curto prazo se anulam. As frequências observadas começam a se aproximar muito das probabilidades teóricas. Como todos os resultados têm a mesma probabilidade, todos eles acabarão aparecendo um número muito semelhante de vezes.\n",
    "\n",
    "O Intervalo de possiveis valores de maças por dia intervém como um múltiplo escalar entre = o número de dias, se por exemplo, o numero de dias for 10x o número de possibilidades, então ela teria que ter algo perto de 100000x para sobrepor a esse efeito de constanscia de porbabilidades, enquanto ao contrário, também ocorre, se o multiplo numero de macas for muito perto de dias, então com mais prob não veremos muitos resultados, isto, é, a aleatoriedade tem impacto alto"
   ]
  },
  {
   "cell_type": "markdown",
   "id": "cde35c2e",
   "metadata": {},
   "source": [
    "## Desafio 2 — Linha do tempo (soma acumulada)\n",
    "\n",
    "Contexto: Um personagem está juntando moedas todos os dias. O código gera ganhos diários e plota a soma acumulada ao longo do tempo.\n",
    "\n",
    "Tarefa: altere `num_dias`, `ganho_min`, `ganho_max` e `salto_plot` para controlar a velocidade de acumulação e a visualização (quanto mostrar a cada N dias).\n",
    "\n",
    "Objetivo: entender listas, loops e como visualizar progresso acumulado."
   ]
  },
  {
   "cell_type": "code",
   "execution_count": null,
   "id": "dbf3a472",
   "metadata": {},
   "outputs": [],
   "source": [
    "# Desafio 2 \n",
    "num_dias = 50      # Mude aqui\n",
    "ganho_min = 0      # Mude aqui\n",
    "ganho_max = 5      # Mude aqui\n",
    "salto_plot = 1     # Mude aqui: plot a cada N dias (1 para todos)\n",
    "\n",
    "# Gera uma lista com num_dias valores aleatórios de ganho diário entre ganho_min e ganho_max\n",
    "ganhos = [random.randint(ganho_min, ganho_max) for _ in range(num_dias)]\n",
    "\n",
    "# Inicializa uma lista vazia para armazenar os valores acumulados\n",
    "acumulado = []\n",
    "\n",
    "# Inicializa a variável s (soma acumulada) em 0\n",
    "s = 0\n",
    "\n",
    "# Loop pelos ganhos diários, com enumerate para obter índice (começando em 1) e valor\n",
    "for i, g in enumerate(ganhos, start=1):\n",
    "    # Adiciona o ganho do dia à soma acumulada\n",
    "    s += g\n",
    "    # Adiciona a soma acumulada à lista\n",
    "    acumulado.append(s)\n",
    "\n",
    "# Cria uma nova figura para o gráfico com tamanho 6x3 polegadas\n",
    "plt.figure(figsize=(6,3))\n",
    "\n",
    "# Plota a linha do tempo: eixo x com dias (de 1 até num_dias, pulando de salto_plot em salto_plot)\n",
    "# eixo y com valores acumulados (pegando valores a cada salto_plot posições)\n",
    "plt.plot(range(1, num_dias+1, salto_plot), acumulado[::salto_plot], marker='o')\n",
    "\n",
    "# Define o título do gráfico\n",
    "plt.title('Moedas acumuladas ao longo do tempo')\n",
    "\n",
    "# Define o rótulo do eixo x\n",
    "plt.xlabel('Dia')\n",
    "\n",
    "# Define o rótulo do eixo y\n",
    "plt.ylabel('Total acumulado')\n",
    "\n",
    "# Ativa a grade no gráfico para melhor visualização\n",
    "plt.grid(True)\n",
    "\n",
    "# Exibe o gráfico na tela\n",
    "plt.show()\n",
    "\n",
    "if False:\n",
    "    # Dica: aumente ganho_max para ver saltos maiores no acumulado.\n",
    "    pass"
   ]
  },
  {
   "cell_type": "markdown",
   "id": "ca58e87c",
   "metadata": {},
   "source": [
    "## Desafio 3 — Scatter simples\n",
    "\n",
    "Contexto: Dois amigos medem a altura e o número de livros lidos. Queremos ver se há alguma correlação.\n",
    "\n",
    "Tarefa: altere `n`, `altura_min`, `altura_max`, `livros_min`, `livros_max` e veja o scatter. Tente aumentar `n` para ver padrões mais claros.\n",
    "\n",
    "Objetivo: entender pontos, eixos e como diferentes escalas mudam a visualização."
   ]
  },
  {
   "cell_type": "code",
   "execution_count": null,
   "id": "27a2e25e",
   "metadata": {},
   "outputs": [],
   "source": [
    "# Desafio 3 \n",
    "n = 30\n",
    "altura_min = 140\n",
    "altura_max = 200\n",
    "livros_min = 0\n",
    "livros_max = 50\n",
    "\n",
    "\n",
    "# Gera uma lista com n valores aleatórios de altura entre altura_min e altura_max\n",
    "livros = [random.randint(livros_min, livros_max) for _ in range(n)]\n",
    "\n",
    "plt.figure(figsize=(5,4))\n",
    "plt.scatter(alturas, livros, c='purple')\n",
    "plt.title('Altura vs Número de livros lidos')\n",
    "plt.xlabel('Altura (cm)')\n",
    "plt.ylabel('Livros lidos')\n",
    "plt.grid(True)\n",
    "plt.show()\n",
    "\n",
    "if False:\n",
    "    # Dica: variar ranges ou tornar livros dependente da altura (criar correlação) para ver padrão.\n",
    "    pass"
   ]
  },
  {
   "cell_type": "markdown",
   "id": "b29a80b1",
   "metadata": {},
   "source": [
    "## Desafio 4 — Série temporal com ruído\n",
    "\n",
    "Contexto: Medimos a temperatura de um sensor que tem ruído. Queremos ver a média móvel.\n",
    "\n",
    "Tarefa: altere `n`, `base_temp`, `noise`, e `janela` (para média móvel) e observe como o suavizado muda.\n",
    "\n",
    "Objetivo: entender ruído e média móvel básica."
   ]
  },
  {
   "cell_type": "code",
   "execution_count": null,
   "id": "3eb9844a",
   "metadata": {},
   "outputs": [],
   "source": [
    "# Desafio 4 — código (Mude apenas as variáveis abaixo)\n",
    "n = 100\n",
    "base_temp = 25.0\n",
    "noise = 2.5\n",
    "janela = 5  # Mude para ajustar suavização\n",
    "\n",
    "# Gera uma lista com n valores de temperatura com ruído\n",
    "temps = [base_temp + random.uniform(-noise, noise) for _ in range(n)]\n",
    "# média móvel simples\n",
    "smoothed = [sum(temps[max(0,i-janela+1):i+1]) / (i - max(0,i-janela+1) + 1) for i in range(n)]\n",
    "\n",
    "plt.figure(figsize=(7,3))\n",
    "plt.plot(temps, alpha=0.4, label='raw')\n",
    "plt.plot(smoothed, label=f'média móvel (janela={janela})', color='red')\n",
    "plt.legend()\n",
    "plt.title('Temperatura com ruído e média móvel')\n",
    "plt.xlabel('Tempo')\n",
    "plt.ylabel('Temperatura (C)')\n",
    "plt.show()\n",
    "\n",
    "if False:\n",
    "    # Dica: aumentar janela suaviza mais.\n",
    "    pass"
   ]
  },
  {
   "cell_type": "markdown",
   "id": "e51c36dc",
   "metadata": {},
   "source": [
    "## Desafio 5 — Contador de eventos (probabilidades)\n",
    "\n",
    "Contexto: Num jogo, um jogador tem chance de conseguir um tesouro a cada tentativa. Queremos simular quantas tentativas até conseguir o primeiro tesouro.\n",
    "\n",
    "Tarefa: altere `chance` e `simulacoes` e veja a distribuição de tentativas necessárias.\n",
    "\n",
    "Objetivo: entender esperança, variabilidade e simulação por repetição."
   ]
  },
  {
   "cell_type": "code",
   "execution_count": null,
   "id": "8f11e73b",
   "metadata": {},
   "outputs": [],
   "source": [
    "# Desafio 5 — código (Mude apenas as variáveis abaixo)\n",
    "chance = 0.1     # probabilidade de sucesso em cada tentativa (0-1)\n",
    "simulacoes = 1000  # quantas vezes repetimos a experiência\n",
    "\n",
    "\n",
    "resultados = []\n",
    "for _ in range(simulacoes):\n",
    "    tentativas = 0\n",
    "    while True:\n",
    "        tentativas += 1\n",
    "        if random.random() < chance:\n",
    "            resultados.append(tentativas)\n",
    "            break\n",
    "\n",
    "plt.figure(figsize=(6,3))\n",
    "plt.hist(resultados, bins=range(1, max(resultados)+1), edgecolor='black')\n",
    "plt.title('Tentativas até o primeiro sucesso')\n",
    "plt.xlabel('Tentativas')\n",
    "plt.ylabel('Frequência')\n",
    "plt.show()\n",
    "\n",
    "if False:\n",
    "    # Dica: a esperança é ~1/chance. Aumente simulacoes para histogramas mais suaves.\n",
    "    pass"
   ]
  },
  {
   "cell_type": "markdown",
   "id": "55102a08",
   "metadata": {},
   "source": [
    "## Desafio 6 — Jogo de escolhas (simples)\n",
    "\n",
    "Contexto: Um jogador pode escolher entre A e B; cada escolha tem recompensa aleatória diferente. Queremos testar qual escolha dá mais retorno médio.\n",
    "\n",
    "Tarefa: altere `n`, `recompensa_A`, `recompensa_B` (intervalos) e execute. Decida qual escolha é melhor com base na média observada.\n",
    "\n",
    "Objetivo: entender média, comparação e experimentos repetidos."
   ]
  },
  {
   "cell_type": "code",
   "execution_count": null,
   "id": "7a0c0902",
   "metadata": {},
   "outputs": [],
   "source": [
    "# Desafio 6 — código (Mude apenas as variáveis abaixo)\n",
    "n = 100\n",
    "recompensa_A = (1, 6)   # intervalo min/max para A\n",
    "recompensa_B = (0, 10)  # intervalo min/max para B\n",
    "\n",
    "\n",
    "resA = [random.randint(*recompensa_A) for _ in range(n)]\n",
    "resB = [random.randint(*recompensa_B) for _ in range(n)]\n",
    "\n",
    "mediaA = sum(resA)/n\n",
    "mediaB = sum(resB)/n\n",
    "\n",
    "plt.figure(figsize=(6,3))\n",
    "plt.boxplot([resA, resB], labels=['A','B'])\n",
    "plt.title('Comparação de recompensas A vs B')\n",
    "plt.ylabel('Recompensa')\n",
    "plt.show()\n",
    "\n",
    "print(f'Média A = {mediaA:.2f} ; Média B = {mediaB:.2f}')\n",
    "\n",
    "if False:\n",
    "    # Dica: dê muitas simulações (aumente n) para reduzir variação amostral.\n",
    "    pass"
   ]
  },
  {
   "cell_type": "markdown",
   "id": "fcae18e4",
   "metadata": {},
   "source": [
    "---"
   ]
  }
 ],
 "metadata": {
  "kernelspec": {
   "display_name": ".venv",
   "language": "python",
   "name": "python3"
  },
  "language_info": {
   "codemirror_mode": {
    "name": "ipython",
    "version": 3
   },
   "file_extension": ".py",
   "mimetype": "text/x-python",
   "name": "python",
   "nbconvert_exporter": "python",
   "pygments_lexer": "ipython3",
   "version": "3.13.7"
  }
 },
 "nbformat": 4,
 "nbformat_minor": 5
}
